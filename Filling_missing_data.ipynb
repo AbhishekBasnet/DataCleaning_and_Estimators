{
  "cells": [
    {
      "cell_type": "code",
      "execution_count": 1,
      "id": "657e1561",
      "metadata": {},
      "outputs": [],
      "source": [
        "import pandas as pd\n",
        "import numpy as np"
      ]
    },
    {
      "cell_type": "code",
      "execution_count": 3,
      "id": "14a1a95b",
      "metadata": {},
      "outputs": [],
      "source": [
        "car_sales_missing = pd.read_csv(\"data/car-sales-extended-missing-data.csv\")"
      ]
    },
    {
      "cell_type": "code",
      "execution_count": 4,
      "id": "06857fea",
      "metadata": {},
      "outputs": [
        {
          "data": {
            "text/html": [
              "<div>\n",
              "<style scoped>\n",
              "    .dataframe tbody tr th:only-of-type {\n",
              "        vertical-align: middle;\n",
              "    }\n",
              "\n",
              "    .dataframe tbody tr th {\n",
              "        vertical-align: top;\n",
              "    }\n",
              "\n",
              "    .dataframe thead th {\n",
              "        text-align: right;\n",
              "    }\n",
              "</style>\n",
              "<table border=\"1\" class=\"dataframe\">\n",
              "  <thead>\n",
              "    <tr style=\"text-align: right;\">\n",
              "      <th></th>\n",
              "      <th>Make</th>\n",
              "      <th>Colour</th>\n",
              "      <th>Odometer (KM)</th>\n",
              "      <th>Doors</th>\n",
              "      <th>Price</th>\n",
              "    </tr>\n",
              "  </thead>\n",
              "  <tbody>\n",
              "    <tr>\n",
              "      <th>0</th>\n",
              "      <td>Honda</td>\n",
              "      <td>White</td>\n",
              "      <td>35431.0</td>\n",
              "      <td>4.0</td>\n",
              "      <td>15323.0</td>\n",
              "    </tr>\n",
              "    <tr>\n",
              "      <th>1</th>\n",
              "      <td>BMW</td>\n",
              "      <td>Blue</td>\n",
              "      <td>192714.0</td>\n",
              "      <td>5.0</td>\n",
              "      <td>19943.0</td>\n",
              "    </tr>\n",
              "    <tr>\n",
              "      <th>2</th>\n",
              "      <td>Honda</td>\n",
              "      <td>White</td>\n",
              "      <td>84714.0</td>\n",
              "      <td>4.0</td>\n",
              "      <td>28343.0</td>\n",
              "    </tr>\n",
              "    <tr>\n",
              "      <th>3</th>\n",
              "      <td>Toyota</td>\n",
              "      <td>White</td>\n",
              "      <td>154365.0</td>\n",
              "      <td>4.0</td>\n",
              "      <td>13434.0</td>\n",
              "    </tr>\n",
              "    <tr>\n",
              "      <th>4</th>\n",
              "      <td>Nissan</td>\n",
              "      <td>Blue</td>\n",
              "      <td>181577.0</td>\n",
              "      <td>3.0</td>\n",
              "      <td>14043.0</td>\n",
              "    </tr>\n",
              "  </tbody>\n",
              "</table>\n",
              "</div>"
            ],
            "text/plain": [
              "     Make Colour  Odometer (KM)  Doors    Price\n",
              "0   Honda  White        35431.0    4.0  15323.0\n",
              "1     BMW   Blue       192714.0    5.0  19943.0\n",
              "2   Honda  White        84714.0    4.0  28343.0\n",
              "3  Toyota  White       154365.0    4.0  13434.0\n",
              "4  Nissan   Blue       181577.0    3.0  14043.0"
            ]
          },
          "execution_count": 4,
          "metadata": {},
          "output_type": "execute_result"
        }
      ],
      "source": [
        "car_sales_missing.head()"
      ]
    },
    {
      "cell_type": "code",
      "execution_count": 8,
      "id": "767584cd",
      "metadata": {},
      "outputs": [
        {
          "data": {
            "text/plain": [
              "Make             1000\n",
              "Colour           1000\n",
              "Odometer (KM)    1000\n",
              "Doors            1000\n",
              "Price            1000\n",
              "dtype: int64"
            ]
          },
          "execution_count": 8,
          "metadata": {},
          "output_type": "execute_result"
        }
      ],
      "source": [
        "car_sales_missing.isna().count()\n"
      ]
    },
    {
      "cell_type": "code",
      "execution_count": 9,
      "id": "0e7225f8",
      "metadata": {},
      "outputs": [],
      "source": [
        "x = car_sales_missing.drop(\"Price\",axis=1)\n",
        "y = car_sales_missing[\"Price\"]"
      ]
    },
    {
      "cell_type": "markdown",
      "id": "2a9b6043",
      "metadata": {},
      "source": [
        "# Fill Columns"
      ]
    },
    {
      "cell_type": "code",
      "execution_count": 14,
      "id": "b544807d",
      "metadata": {},
      "outputs": [
        {
          "data": {
            "text/plain": [
              "Make              0\n",
              "Colour            0\n",
              "Odometer (KM)     0\n",
              "Doors             0\n",
              "Price            50\n",
              "dtype: int64"
            ]
          },
          "execution_count": 14,
          "metadata": {},
          "output_type": "execute_result"
        }
      ],
      "source": [
        "car_sales_missing[\"Make\"].fillna(\"missing\", inplace=True)\n",
        "car_sales_missing[\"Colour\"].fillna(\"missing\", inplace=True)\n",
        "car_sales_missing[\"Odometer (KM)\"].fillna(car_sales_missing[\"Odometer (KM)\"].mean(), inplace=True)\n",
        "car_sales_missing[\"Doors\"].fillna(4,inplace=True)\n",
        "\n",
        "car_sales_missing.isna().sum()"
      ]
    },
    {
      "cell_type": "markdown",
      "id": "1fce44ef",
      "metadata": {},
      "source": [
        "# For price drop all"
      ]
    },
    {
      "cell_type": "code",
      "execution_count": 19,
      "id": "2e949333",
      "metadata": {},
      "outputs": [
        {
          "data": {
            "text/plain": [
              "Make             0\n",
              "Colour           0\n",
              "Odometer (KM)    0\n",
              "Doors            0\n",
              "Price            0\n",
              "dtype: int64"
            ]
          },
          "execution_count": 19,
          "metadata": {},
          "output_type": "execute_result"
        }
      ],
      "source": [
        "car_sales_missing.dropna(inplace=True)\n",
        "car_sales_missing.isna().sum()\n"
      ]
    },
    {
      "cell_type": "code",
      "execution_count": 20,
      "id": "a67c143f",
      "metadata": {},
      "outputs": [
        {
          "data": {
            "text/plain": [
              "950"
            ]
          },
          "execution_count": 20,
          "metadata": {},
          "output_type": "execute_result"
        }
      ],
      "source": [
        "len(car_sales_missing)"
      ]
    },
    {
      "cell_type": "code",
      "execution_count": 21,
      "id": "3944940b",
      "metadata": {},
      "outputs": [],
      "source": [
        "x = car_sales_missing.drop(\"Price\",axis=1)\n",
        "y = car_sales_missing[\"Price\"]"
      ]
    },
    {
      "cell_type": "code",
      "execution_count": 22,
      "id": "b388f318",
      "metadata": {},
      "outputs": [],
      "source": [
        "#converting our data\n",
        "from sklearn.preprocessing import OneHotEncoder\n",
        "from sklearn.compose import ColumnTransformer\n",
        "\n",
        "categorical_features = [\"Make\",\"Colour\",\"Doors\"]\n",
        "\n",
        "one_hot = OneHotEncoder()\n",
        "transformer = ColumnTransformer([(\"one_hot\", one_hot, categorical_features)]\n",
        "                               ,remainder=\"passthrough\")"
      ]
    },
    {
      "cell_type": "code",
      "execution_count": 24,
      "id": "243fa8bf",
      "metadata": {},
      "outputs": [
        {
          "name": "stdout",
          "output_type": "stream",
          "text": [
            "Transformed features:\n",
            " [[0.00000e+00 1.00000e+00 0.00000e+00 ... 0.00000e+00 3.54310e+04\n",
            "  1.53230e+04]\n",
            " [1.00000e+00 0.00000e+00 0.00000e+00 ... 1.00000e+00 1.92714e+05\n",
            "  1.99430e+04]\n",
            " [0.00000e+00 1.00000e+00 0.00000e+00 ... 0.00000e+00 8.47140e+04\n",
            "  2.83430e+04]\n",
            " ...\n",
            " [0.00000e+00 0.00000e+00 1.00000e+00 ... 0.00000e+00 6.66040e+04\n",
            "  3.15700e+04]\n",
            " [0.00000e+00 1.00000e+00 0.00000e+00 ... 0.00000e+00 2.15883e+05\n",
            "  4.00100e+03]\n",
            " [0.00000e+00 0.00000e+00 0.00000e+00 ... 0.00000e+00 2.48360e+05\n",
            "  1.27320e+04]]\n"
          ]
        }
      ],
      "source": [
        "try:\n",
        "    transformed_x = transformer.fit_transform(car_sales_missing)\n",
        "    print(\"Transformed features:\\n\", transformed_x)\n",
        "except Exception as e:\n",
        "    print(\"An error occurred during fit_transform:\", e)"
      ]
    },
    {
      "cell_type": "markdown",
      "id": "6e74b589",
      "metadata": {},
      "source": [
        "## Option 2\n",
        "    Fill with sklearn"
      ]
    },
    {
      "cell_type": "code",
      "execution_count": 25,
      "id": "7caff055",
      "metadata": {},
      "outputs": [],
      "source": [
        "car_sales_missing = pd.read_csv(\"data/car-sales-extended-missing-data.csv\")"
      ]
    },
    {
      "cell_type": "code",
      "execution_count": 27,
      "id": "efd6888c",
      "metadata": {},
      "outputs": [
        {
          "data": {
            "text/html": [
              "<div>\n",
              "<style scoped>\n",
              "    .dataframe tbody tr th:only-of-type {\n",
              "        vertical-align: middle;\n",
              "    }\n",
              "\n",
              "    .dataframe tbody tr th {\n",
              "        vertical-align: top;\n",
              "    }\n",
              "\n",
              "    .dataframe thead th {\n",
              "        text-align: right;\n",
              "    }\n",
              "</style>\n",
              "<table border=\"1\" class=\"dataframe\">\n",
              "  <thead>\n",
              "    <tr style=\"text-align: right;\">\n",
              "      <th></th>\n",
              "      <th>Make</th>\n",
              "      <th>Colour</th>\n",
              "      <th>Odometer (KM)</th>\n",
              "      <th>Doors</th>\n",
              "      <th>Price</th>\n",
              "    </tr>\n",
              "  </thead>\n",
              "  <tbody>\n",
              "    <tr>\n",
              "      <th>0</th>\n",
              "      <td>Honda</td>\n",
              "      <td>White</td>\n",
              "      <td>35431.0</td>\n",
              "      <td>4.0</td>\n",
              "      <td>15323.0</td>\n",
              "    </tr>\n",
              "    <tr>\n",
              "      <th>1</th>\n",
              "      <td>BMW</td>\n",
              "      <td>Blue</td>\n",
              "      <td>192714.0</td>\n",
              "      <td>5.0</td>\n",
              "      <td>19943.0</td>\n",
              "    </tr>\n",
              "    <tr>\n",
              "      <th>2</th>\n",
              "      <td>Honda</td>\n",
              "      <td>White</td>\n",
              "      <td>84714.0</td>\n",
              "      <td>4.0</td>\n",
              "      <td>28343.0</td>\n",
              "    </tr>\n",
              "    <tr>\n",
              "      <th>3</th>\n",
              "      <td>Toyota</td>\n",
              "      <td>White</td>\n",
              "      <td>154365.0</td>\n",
              "      <td>4.0</td>\n",
              "      <td>13434.0</td>\n",
              "    </tr>\n",
              "    <tr>\n",
              "      <th>4</th>\n",
              "      <td>Nissan</td>\n",
              "      <td>Blue</td>\n",
              "      <td>181577.0</td>\n",
              "      <td>3.0</td>\n",
              "      <td>14043.0</td>\n",
              "    </tr>\n",
              "  </tbody>\n",
              "</table>\n",
              "</div>"
            ],
            "text/plain": [
              "     Make Colour  Odometer (KM)  Doors    Price\n",
              "0   Honda  White        35431.0    4.0  15323.0\n",
              "1     BMW   Blue       192714.0    5.0  19943.0\n",
              "2   Honda  White        84714.0    4.0  28343.0\n",
              "3  Toyota  White       154365.0    4.0  13434.0\n",
              "4  Nissan   Blue       181577.0    3.0  14043.0"
            ]
          },
          "execution_count": 27,
          "metadata": {},
          "output_type": "execute_result"
        }
      ],
      "source": [
        "car_sales_missing.head()\n"
      ]
    },
    {
      "cell_type": "code",
      "execution_count": 29,
      "id": "8d9c5c7d",
      "metadata": {},
      "outputs": [
        {
          "data": {
            "text/plain": [
              "Make             49\n",
              "Colour           50\n",
              "Odometer (KM)    50\n",
              "Doors            50\n",
              "Price            50\n",
              "dtype: int64"
            ]
          },
          "execution_count": 29,
          "metadata": {},
          "output_type": "execute_result"
        }
      ],
      "source": [
        "car_sales_missing.isna().sum()"
      ]
    },
    {
      "cell_type": "code",
      "execution_count": 30,
      "id": "b6a600fe",
      "metadata": {},
      "outputs": [
        {
          "data": {
            "text/plain": [
              "Make             47\n",
              "Colour           46\n",
              "Odometer (KM)    48\n",
              "Doors            47\n",
              "Price             0\n",
              "dtype: int64"
            ]
          },
          "execution_count": 30,
          "metadata": {},
          "output_type": "execute_result"
        }
      ],
      "source": [
        "car_sales_missing.dropna(subset=[\"Price\"], inplace=True)\n",
        "car_sales_missing.isna().sum()"
      ]
    },
    {
      "cell_type": "code",
      "execution_count": 31,
      "id": "93c98f97",
      "metadata": {},
      "outputs": [],
      "source": [
        "x = car_sales_missing.drop(\"Price\", axis=1)\n",
        "y = car_sales_missing[\"Price\"]"
      ]
    },
    {
      "cell_type": "code",
      "execution_count": 34,
      "id": "3ec30cdc",
      "metadata": {},
      "outputs": [
        {
          "data": {
            "text/plain": [
              "array([['Honda', 'White', 4.0, 35431.0],\n",
              "       ['BMW', 'Blue', 5.0, 192714.0],\n",
              "       ['Honda', 'White', 4.0, 84714.0],\n",
              "       ...,\n",
              "       ['Nissan', 'Blue', 4.0, 66604.0],\n",
              "       ['Honda', 'White', 4.0, 215883.0],\n",
              "       ['Toyota', 'Blue', 4.0, 248360.0]], dtype=object)"
            ]
          },
          "execution_count": 34,
          "metadata": {},
          "output_type": "execute_result"
        }
      ],
      "source": [
        "# Fill mising value with Scikit-Learn\n",
        "from sklearn.impute import SimpleImputer\n",
        "from sklearn.compose import ColumnTransformer\n",
        "\n",
        "# Fill categorical value with 'missing & numerical values with mean'\n",
        "cat_imputer = SimpleImputer(strategy=\"constant\",fill_value=\"missing\") #for every catagorical value constantly fill \"missing\"\n",
        "door_imputer = SimpleImputer(strategy=\"constant\",fill_value=4)\n",
        "num_imputer = SimpleImputer(strategy=\"mean\")\n",
        "\n",
        "#Define Columns\n",
        "cat_features = [\"Make\", \"Colour\"]\n",
        "door_features = [\"Doors\"]\n",
        "num_features = [\"Odometer (KM)\"]\n",
        "\n",
        "# Create an imputer (someting that fills missing data)\n",
        "imputer = ColumnTransformer([\n",
        "    (\"cat_imputer\", cat_imputer, cat_features),\n",
        "    (\"door_imputer\", door_imputer, door_features),\n",
        "    (\"num_imputer\", num_imputer, num_features)\n",
        "])\n",
        "\n",
        "# Transform the data\n",
        "filled_x = imputer.fit_transform(x)\n",
        "filled_x"
      ]
    },
    {
      "cell_type": "code",
      "execution_count": 40,
      "id": "df1fe15f",
      "metadata": {},
      "outputs": [],
      "source": [
        "car_sales_filled = pd.DataFrame(filled_x,\n",
        "                              columns=[\"Make\", \"Colour\", \"Doors\", \"Odometer (KM)\"] )"
      ]
    },
    {
      "cell_type": "code",
      "execution_count": 41,
      "id": "fb1b01fb",
      "metadata": {},
      "outputs": [
        {
          "data": {
            "text/html": [
              "<div>\n",
              "<style scoped>\n",
              "    .dataframe tbody tr th:only-of-type {\n",
              "        vertical-align: middle;\n",
              "    }\n",
              "\n",
              "    .dataframe tbody tr th {\n",
              "        vertical-align: top;\n",
              "    }\n",
              "\n",
              "    .dataframe thead th {\n",
              "        text-align: right;\n",
              "    }\n",
              "</style>\n",
              "<table border=\"1\" class=\"dataframe\">\n",
              "  <thead>\n",
              "    <tr style=\"text-align: right;\">\n",
              "      <th></th>\n",
              "      <th>Make</th>\n",
              "      <th>Colour</th>\n",
              "      <th>Doors</th>\n",
              "      <th>Odometer (KM)</th>\n",
              "    </tr>\n",
              "  </thead>\n",
              "  <tbody>\n",
              "    <tr>\n",
              "      <th>0</th>\n",
              "      <td>Honda</td>\n",
              "      <td>White</td>\n",
              "      <td>4.0</td>\n",
              "      <td>35431.0</td>\n",
              "    </tr>\n",
              "    <tr>\n",
              "      <th>1</th>\n",
              "      <td>BMW</td>\n",
              "      <td>Blue</td>\n",
              "      <td>5.0</td>\n",
              "      <td>192714.0</td>\n",
              "    </tr>\n",
              "    <tr>\n",
              "      <th>2</th>\n",
              "      <td>Honda</td>\n",
              "      <td>White</td>\n",
              "      <td>4.0</td>\n",
              "      <td>84714.0</td>\n",
              "    </tr>\n",
              "    <tr>\n",
              "      <th>3</th>\n",
              "      <td>Toyota</td>\n",
              "      <td>White</td>\n",
              "      <td>4.0</td>\n",
              "      <td>154365.0</td>\n",
              "    </tr>\n",
              "    <tr>\n",
              "      <th>4</th>\n",
              "      <td>Nissan</td>\n",
              "      <td>Blue</td>\n",
              "      <td>3.0</td>\n",
              "      <td>181577.0</td>\n",
              "    </tr>\n",
              "    <tr>\n",
              "      <th>5</th>\n",
              "      <td>Honda</td>\n",
              "      <td>Red</td>\n",
              "      <td>4.0</td>\n",
              "      <td>42652.0</td>\n",
              "    </tr>\n",
              "    <tr>\n",
              "      <th>6</th>\n",
              "      <td>Toyota</td>\n",
              "      <td>Blue</td>\n",
              "      <td>4.0</td>\n",
              "      <td>163453.0</td>\n",
              "    </tr>\n",
              "    <tr>\n",
              "      <th>7</th>\n",
              "      <td>Honda</td>\n",
              "      <td>White</td>\n",
              "      <td>4.0</td>\n",
              "      <td>130987.447894</td>\n",
              "    </tr>\n",
              "    <tr>\n",
              "      <th>8</th>\n",
              "      <td>missing</td>\n",
              "      <td>White</td>\n",
              "      <td>4.0</td>\n",
              "      <td>130538.0</td>\n",
              "    </tr>\n",
              "    <tr>\n",
              "      <th>9</th>\n",
              "      <td>Honda</td>\n",
              "      <td>Blue</td>\n",
              "      <td>4.0</td>\n",
              "      <td>51029.0</td>\n",
              "    </tr>\n",
              "  </tbody>\n",
              "</table>\n",
              "</div>"
            ],
            "text/plain": [
              "      Make Colour Doors  Odometer (KM)\n",
              "0    Honda  White   4.0        35431.0\n",
              "1      BMW   Blue   5.0       192714.0\n",
              "2    Honda  White   4.0        84714.0\n",
              "3   Toyota  White   4.0       154365.0\n",
              "4   Nissan   Blue   3.0       181577.0\n",
              "5    Honda    Red   4.0        42652.0\n",
              "6   Toyota   Blue   4.0       163453.0\n",
              "7    Honda  White   4.0  130987.447894\n",
              "8  missing  White   4.0       130538.0\n",
              "9    Honda   Blue   4.0        51029.0"
            ]
          },
          "execution_count": 41,
          "metadata": {},
          "output_type": "execute_result"
        }
      ],
      "source": [
        "car_sales_filled.head(10)"
      ]
    },
    {
      "cell_type": "code",
      "execution_count": 42,
      "id": "3a513fc6",
      "metadata": {},
      "outputs": [
        {
          "data": {
            "text/plain": [
              "Make             0\n",
              "Colour           0\n",
              "Doors            0\n",
              "Odometer (KM)    0\n",
              "dtype: int64"
            ]
          },
          "execution_count": 42,
          "metadata": {},
          "output_type": "execute_result"
        }
      ],
      "source": [
        "car_sales_filled.isna().sum()\n"
      ]
    },
    {
      "cell_type": "code",
      "execution_count": 43,
      "id": "30e03c78",
      "metadata": {},
      "outputs": [
        {
          "name": "stdout",
          "output_type": "stream",
          "text": [
            "Transformed features:\n",
            "   (0, 1)\t1.0\n",
            "  (0, 9)\t1.0\n",
            "  (0, 12)\t1.0\n",
            "  (0, 14)\t35431.0\n",
            "  (1, 0)\t1.0\n",
            "  (1, 6)\t1.0\n",
            "  (1, 13)\t1.0\n",
            "  (1, 14)\t192714.0\n",
            "  (2, 1)\t1.0\n",
            "  (2, 9)\t1.0\n",
            "  (2, 12)\t1.0\n",
            "  (2, 14)\t84714.0\n",
            "  (3, 3)\t1.0\n",
            "  (3, 9)\t1.0\n",
            "  (3, 12)\t1.0\n",
            "  (3, 14)\t154365.0\n",
            "  (4, 2)\t1.0\n",
            "  (4, 6)\t1.0\n",
            "  (4, 11)\t1.0\n",
            "  (4, 14)\t181577.0\n",
            "  (5, 1)\t1.0\n",
            "  (5, 8)\t1.0\n",
            "  (5, 12)\t1.0\n",
            "  (5, 14)\t42652.0\n",
            "  (6, 3)\t1.0\n",
            "  :\t:\n",
            "  (943, 14)\t162523.0\n",
            "  (944, 0)\t1.0\n",
            "  (944, 6)\t1.0\n",
            "  (944, 11)\t1.0\n",
            "  (944, 14)\t163322.0\n",
            "  (945, 3)\t1.0\n",
            "  (945, 5)\t1.0\n",
            "  (945, 12)\t1.0\n",
            "  (945, 14)\t35820.0\n",
            "  (946, 4)\t1.0\n",
            "  (946, 9)\t1.0\n",
            "  (946, 11)\t1.0\n",
            "  (946, 14)\t155144.0\n",
            "  (947, 2)\t1.0\n",
            "  (947, 6)\t1.0\n",
            "  (947, 12)\t1.0\n",
            "  (947, 14)\t66604.0\n",
            "  (948, 1)\t1.0\n",
            "  (948, 9)\t1.0\n",
            "  (948, 12)\t1.0\n",
            "  (948, 14)\t215883.0\n",
            "  (949, 3)\t1.0\n",
            "  (949, 6)\t1.0\n",
            "  (949, 12)\t1.0\n",
            "  (949, 14)\t248360.0\n"
          ]
        }
      ],
      "source": [
        "#converting our data\n",
        "from sklearn.preprocessing import OneHotEncoder\n",
        "from sklearn.compose import ColumnTransformer\n",
        "\n",
        "categorical_features = [\"Make\",\"Colour\",\"Doors\"]\n",
        "\n",
        "one_hot = OneHotEncoder()\n",
        "transformer = ColumnTransformer([(\"one_hot\", one_hot, categorical_features)]\n",
        "                               ,remainder=\"passthrough\")\n",
        "\n",
        "try:\n",
        "    transformed_x = transformer.fit_transform(car_sales_filled)\n",
        "    print(\"Transformed features:\\n\", transformed_x)\n",
        "except Exception as e:\n",
        "    print(\"An error occurred during fit_transform:\", e)"
      ]
    },
    {
      "cell_type": "code",
      "execution_count": 45,
      "id": "eea79128",
      "metadata": {},
      "outputs": [
        {
          "data": {
            "text/plain": [
              "0.21990196728583944"
            ]
          },
          "execution_count": 45,
          "metadata": {},
          "output_type": "execute_result"
        }
      ],
      "source": [
        "# Now we've got data as numbers and filled\n",
        "\n",
        "np.random.seed(42)\n",
        "from sklearn.ensemble import RandomForestRegressor\n",
        "from sklearn.model_selection import train_test_split\n",
        "\n",
        "x_train, x_test, y_train, y_test = train_test_split(transformed_x,y,test_size=0.2)\n",
        "\n",
        "model = RandomForestRegressor()\n",
        "model.fit(x_train, y_train)\n",
        "model.score(x_test, y_test)"
      ]
    },
    {
      "cell_type": "markdown",
      "id": "9f59ae50",
      "metadata": {},
      "source": [
        "# This one performed worse cuz it has only 950 data to train with ie 950 vs 1000\n",
        "## --x-- End of filling mising data . --x--"
      ]
    }
  ],
  "metadata": {
    "kernelspec": {
      "display_name": "Python 3 (ipykernel)",
      "language": "python",
      "name": "python3"
    },
    "language_info": {
      "codemirror_mode": {
        "name": "ipython",
        "version": 3
      },
      "file_extension": ".py",
      "mimetype": "text/x-python",
      "name": "python",
      "nbconvert_exporter": "python",
      "pygments_lexer": "ipython3",
      "version": "3.11.5"
    }
  },
  "nbformat": 4,
  "nbformat_minor": 5
}
